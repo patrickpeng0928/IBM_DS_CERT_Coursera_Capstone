{
    "nbformat_minor": 1, 
    "cells": [
        {
            "source": "# Toronto Neighborhoods Analysis", 
            "cell_type": "markdown", 
            "metadata": {
                "collapsed": true
            }
        }, 
        {
            "source": "## Description", 
            "cell_type": "markdown", 
            "metadata": {}
        }, 
        {
            "source": "In this assignment, you will be required to explore, segment, and cluster the neighborhoods in the city of Toronto. However, unlike New York, the neighborhood data is not readily available on the internet. What is interesting about the field of data science is that each project can be challenging in its unique way, so you need to learn to be agile and refine the skill to learn new libraries and tools quickly depending on the project.\n\nFor the Toronto neighborhood data, a Wikipedia page exists that has all the information we need to explore and cluster the neighborhoods in Toronto. You will be required to scrape the Wikipedia page and wrangle the data, clean it, and then read it into a pandas dataframe so that it is in a structured format like the New York dataset.\n\nOnce the data is in a structured format, you can replicate the analysis that we did to the New York City dataset to explore and cluster the neighborhoods in the city of Toronto.\n\nYour submission will be a link to your Jupyter Notebook on your Github repository.", 
            "cell_type": "markdown", 
            "metadata": {}
        }, 
        {
            "source": "## Imports", 
            "cell_type": "markdown", 
            "metadata": {}
        }, 
        {
            "execution_count": 1, 
            "cell_type": "code", 
            "metadata": {}, 
            "outputs": [
                {
                    "output_type": "stream", 
                    "name": "stdout", 
                    "text": "Fetching package metadata .............\nSolving package specifications: .\n\n# All requested packages already installed.\n# packages in environment at /opt/conda/envs/DSX-Python35:\n#\nfolium                    0.5.0                      py_0    conda-forge\n"
                }
            ], 
            "source": "from bs4 import BeautifulSoup\nimport requests\nimport numpy as np\nimport pandas as pd\nfrom geopy.geocoders import Nominatim\nimport json\nfrom pandas.io.json import json_normalize # tranform JSON file into a pandas dataframe\nfrom sklearn.cluster import KMeans\nimport matplotlib.cm as cm\nimport matplotlib.colors as colors\n!conda install -c conda-forge folium=0.5.0 --yes\nimport folium"
        }, 
        {
            "source": "## Collecting Data", 
            "cell_type": "markdown", 
            "metadata": {}
        }, 
        {
            "source": "### Data Source: https://en.wikipedia.org/wiki/List_of_postal_codes_of_Canada:_M", 
            "cell_type": "markdown", 
            "metadata": {}
        }, 
        {
            "source": "### Target: Data Frame\n* 3 columns: PostalCode, Borough, and Neighborhood\n* borough is not null\n* More than one neighborhood can exist in one postal code area. \n    * For example, in the table on the Wikipedia page, you will notice that M5A is listed twice and has two neighborhoods: Harbourfront and Regent Park. These two rows will be combined into one row with the neighborhoods separated with a comma as shown in row 11 in the above table.\n* If a cell has a borough but a Not assigned neighborhood, then the neighborhood will be the same as the borough. \n    * So for the 9th cell in the table on the Wikipedia page, the value of the Borough and the Neighborhood columns will be Queen's Park.\n* Clean your Notebook and add Markdown cells to explain your work and any assumptions you are making.\n* In the last cell of your notebook, use the .shape method to print the number of rows of your dataframe.", 
            "cell_type": "markdown", 
            "metadata": {}
        }, 
        {
            "source": "## Get data from website", 
            "cell_type": "markdown", 
            "metadata": {}
        }, 
        {
            "execution_count": 2, 
            "cell_type": "code", 
            "metadata": {}, 
            "outputs": [
                {
                    "output_type": "stream", 
                    "name": "stdout", 
                    "text": "https://en.wikipedia.org/wiki/List_of_postal_codes_of_Canada:_M\n200\n{'Connection': 'keep-alive', 'Content-Type': 'text/html; charset=UTF-8', 'X-Content-Type-Options': 'nosniff', 'Age': '79221', 'Date': 'Tue, 16 Apr 2019 16:18:26 GMT', 'Server': 'mw1268.eqiad.wmnet', 'Backend-Timing': 'D=106893 t=1555265421068791', 'Server-Timing': 'cache;desc=\"hit-front\"', 'X-Client-IP': '169.60.36.42', 'Content-language': 'en', 'X-Cache-Status': 'hit-front', 'Content-Encoding': 'gzip', 'Cache-Control': 'private, s-maxage=0, max-age=0, must-revalidate', 'Strict-Transport-Security': 'max-age=106384710; includeSubDomains; preload', 'Last-Modified': 'Tue, 02 Apr 2019 21:01:21 GMT', 'Vary': 'Accept-Encoding,Cookie,Authorization,X-Seven', 'X-Analytics': 'ns=0;page_id=539066;https=1;nocookies=1', 'Set-Cookie': 'WMF-Last-Access=16-Apr-2019;Path=/;HttpOnly;secure;Expires=Sat, 18 May 2019 12:00:00 GMT, WMF-Last-Access-Global=16-Apr-2019;Path=/;Domain=.wikipedia.org;HttpOnly;secure;Expires=Sat, 18 May 2019 12:00:00 GMT, GeoIP=US:::37.75:-97.82:v4; Path=/; secure; Domain=.wikipedia.org', 'Accept-Ranges': 'bytes', 'P3P': 'CP=\"This is not a P3P policy! See https://en.wikipedia.org/wiki/Special:CentralAutoLogin/P3P for more info.\"', 'X-Cache': 'cp1081 hit/4, cp2012 hit/5, cp2023 hit/1', 'X-Powered-By': 'HHVM/3.18.6-dev', 'Content-Length': '15396', 'Via': '1.1 varnish (Varnish/5.1), 1.1 varnish (Varnish/5.1), 1.1 varnish (Varnish/5.1)', 'X-Varnish': '732209794 102987850, 276430989 753532832, 3398199 1068105461'}\n"
                }
            ], 
            "source": "url = 'https://en.wikipedia.org/wiki/List_of_postal_codes_of_Canada:_M'\nresult = requests.get(url)\nprint(url)\nprint(result.status_code)\nprint(result.headers)"
        }, 
        {
            "source": "## Parse data from online", 
            "cell_type": "markdown", 
            "metadata": {}
        }, 
        {
            "source": "#### Soup", 
            "cell_type": "markdown", 
            "metadata": {}
        }, 
        {
            "execution_count": 3, 
            "cell_type": "code", 
            "metadata": {}, 
            "outputs": [], 
            "source": "soup = BeautifulSoup(result.content, 'html.parser')\ntable = soup.find('table')\ntrs = table.find_all('tr')\nrows = []\nfor tr in trs:\n    row = tr.find_all('td')\n    if row:\n        rows.append(row)\n# rows"
        }, 
        {
            "execution_count": 4, 
            "cell_type": "code", 
            "metadata": {}, 
            "outputs": [], 
            "source": "lst = []\nfor row in rows:\n    postalcode = row[0].text.strip()\n    borough = row[1].text.strip()\n    neighborhood = row[2].text.strip()\n    if borough != 'Not assigned':\n        if neighborhood == 'Not assigned':\n            neighborhood = borough\n    lst.append([postalcode, borough, neighborhood])\n# lst"
        }, 
        {
            "source": "#### Convert to pandas", 
            "cell_type": "markdown", 
            "metadata": {}
        }, 
        {
            "execution_count": 5, 
            "cell_type": "code", 
            "metadata": {}, 
            "outputs": [
                {
                    "execution_count": 5, 
                    "metadata": {}, 
                    "data": {
                        "text/html": "<div>\n<style scoped>\n    .dataframe tbody tr th:only-of-type {\n        vertical-align: middle;\n    }\n\n    .dataframe tbody tr th {\n        vertical-align: top;\n    }\n\n    .dataframe thead th {\n        text-align: right;\n    }\n</style>\n<table border=\"1\" class=\"dataframe\">\n  <thead>\n    <tr style=\"text-align: right;\">\n      <th></th>\n      <th>PostalCode</th>\n      <th>Borough</th>\n      <th>Neighborhood</th>\n    </tr>\n  </thead>\n  <tbody>\n    <tr>\n      <th>0</th>\n      <td>M1A</td>\n      <td>Not assigned</td>\n      <td>Not assigned</td>\n    </tr>\n    <tr>\n      <th>1</th>\n      <td>M2A</td>\n      <td>Not assigned</td>\n      <td>Not assigned</td>\n    </tr>\n    <tr>\n      <th>2</th>\n      <td>M3A</td>\n      <td>North York</td>\n      <td>Parkwoods</td>\n    </tr>\n    <tr>\n      <th>3</th>\n      <td>M4A</td>\n      <td>North York</td>\n      <td>Victoria Village</td>\n    </tr>\n    <tr>\n      <th>4</th>\n      <td>M5A</td>\n      <td>Downtown Toronto</td>\n      <td>Harbourfront</td>\n    </tr>\n  </tbody>\n</table>\n</div>", 
                        "text/plain": "  PostalCode           Borough      Neighborhood\n0        M1A      Not assigned      Not assigned\n1        M2A      Not assigned      Not assigned\n2        M3A        North York         Parkwoods\n3        M4A        North York  Victoria Village\n4        M5A  Downtown Toronto      Harbourfront"
                    }, 
                    "output_type": "execute_result"
                }
            ], 
            "source": "cols = ['PostalCode', 'Borough', 'Neighborhood']\ndf = pd.DataFrame(lst, columns = cols)\ndf.head()"
        }, 
        {
            "source": "#### Group df by PostalCode", 
            "cell_type": "markdown", 
            "metadata": {}
        }, 
        {
            "execution_count": 6, 
            "cell_type": "code", 
            "metadata": {}, 
            "outputs": [
                {
                    "execution_count": 6, 
                    "metadata": {}, 
                    "data": {
                        "text/html": "<div>\n<style scoped>\n    .dataframe tbody tr th:only-of-type {\n        vertical-align: middle;\n    }\n\n    .dataframe tbody tr th {\n        vertical-align: top;\n    }\n\n    .dataframe thead th {\n        text-align: right;\n    }\n</style>\n<table border=\"1\" class=\"dataframe\">\n  <thead>\n    <tr style=\"text-align: right;\">\n      <th></th>\n      <th>PostalCode</th>\n      <th>Borough</th>\n      <th>Neighborhood</th>\n    </tr>\n  </thead>\n  <tbody>\n    <tr>\n      <th>0</th>\n      <td>M1A</td>\n      <td>Not assigned</td>\n      <td>Not assigned</td>\n    </tr>\n    <tr>\n      <th>1</th>\n      <td>M1B</td>\n      <td>Scarborough</td>\n      <td>Rouge, Malvern</td>\n    </tr>\n    <tr>\n      <th>2</th>\n      <td>M1C</td>\n      <td>Scarborough</td>\n      <td>Highland Creek, Rouge Hill, Port Union</td>\n    </tr>\n    <tr>\n      <th>3</th>\n      <td>M1E</td>\n      <td>Scarborough</td>\n      <td>Guildwood, Morningside, West Hill</td>\n    </tr>\n    <tr>\n      <th>4</th>\n      <td>M1G</td>\n      <td>Scarborough</td>\n      <td>Woburn</td>\n    </tr>\n  </tbody>\n</table>\n</div>", 
                        "text/plain": "  PostalCode       Borough                            Neighborhood\n0        M1A  Not assigned                            Not assigned\n1        M1B   Scarborough                          Rouge, Malvern\n2        M1C   Scarborough  Highland Creek, Rouge Hill, Port Union\n3        M1E   Scarborough       Guildwood, Morningside, West Hill\n4        M1G   Scarborough                                  Woburn"
                    }, 
                    "output_type": "execute_result"
                }
            ], 
            "source": "df = df.groupby('PostalCode').agg(\n    {\n          'Borough': 'first'\n        , 'Neighborhood': ', '.join\n    }\n).reset_index()\ndf.head()"
        }, 
        {
            "execution_count": 7, 
            "cell_type": "code", 
            "metadata": {}, 
            "outputs": [
                {
                    "execution_count": 7, 
                    "metadata": {}, 
                    "data": {
                        "text/html": "<div>\n<style scoped>\n    .dataframe tbody tr th:only-of-type {\n        vertical-align: middle;\n    }\n\n    .dataframe tbody tr th {\n        vertical-align: top;\n    }\n\n    .dataframe thead th {\n        text-align: right;\n    }\n</style>\n<table border=\"1\" class=\"dataframe\">\n  <thead>\n    <tr style=\"text-align: right;\">\n      <th></th>\n      <th>PostalCode</th>\n      <th>Borough</th>\n      <th>Neighborhood</th>\n    </tr>\n  </thead>\n  <tbody>\n    <tr>\n      <th>80</th>\n      <td>M5A</td>\n      <td>Downtown Toronto</td>\n      <td>Harbourfront, Regent Park</td>\n    </tr>\n  </tbody>\n</table>\n</div>", 
                        "text/plain": "   PostalCode           Borough               Neighborhood\n80        M5A  Downtown Toronto  Harbourfront, Regent Park"
                    }, 
                    "output_type": "execute_result"
                }
            ], 
            "source": "df[df['PostalCode'] == 'M5A']"
        }, 
        {
            "source": "### DF shape", 
            "cell_type": "markdown", 
            "metadata": {}
        }, 
        {
            "execution_count": 8, 
            "cell_type": "code", 
            "metadata": {}, 
            "outputs": [
                {
                    "execution_count": 8, 
                    "metadata": {}, 
                    "data": {
                        "text/plain": "(180, 3)"
                    }, 
                    "output_type": "execute_result"
                }
            ], 
            "source": "df.shape"
        }, 
        {
            "execution_count": null, 
            "cell_type": "code", 
            "metadata": {}, 
            "outputs": [], 
            "source": ""
        }
    ], 
    "metadata": {
        "kernelspec": {
            "display_name": "Python 3.5", 
            "name": "python3", 
            "language": "python"
        }, 
        "language_info": {
            "mimetype": "text/x-python", 
            "nbconvert_exporter": "python", 
            "version": "3.5.5", 
            "name": "python", 
            "file_extension": ".py", 
            "pygments_lexer": "ipython3", 
            "codemirror_mode": {
                "version": 3, 
                "name": "ipython"
            }
        }, 
        "celltoolbar": "Raw Cell Format"
    }, 
    "nbformat": 4
}